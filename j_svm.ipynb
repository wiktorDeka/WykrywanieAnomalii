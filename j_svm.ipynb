{
 "cells": [
  {
   "cell_type": "markdown",
   "metadata": {},
   "source": [
    "# SVM"
   ]
  },
  {
   "cell_type": "markdown",
   "metadata": {},
   "source": [
    "## importy"
   ]
  },
  {
   "cell_type": "code",
   "execution_count": 26,
   "metadata": {},
   "outputs": [],
   "source": [
    "from data_encoder import encode_data\n",
    "import pandas as pd\n",
    "from sklearn import svm\n",
    "from sklearn.metrics import classification_report\n",
    "import matplotlib.pyplot as plt\n",
    "import seaborn as sns"
   ]
  },
  {
   "cell_type": "markdown",
   "metadata": {},
   "source": [
    "## dane"
   ]
  },
  {
   "cell_type": "code",
   "execution_count": 27,
   "metadata": {},
   "outputs": [
    {
     "name": "stdout",
     "output_type": "stream",
     "text": [
      "         dt  switch        src       dst  pktcount  bytecount  dur   dur_nsec  \\\n",
      "0     11425       1   10.0.0.1  10.0.0.8     45304   48294064  100  716000000   \n",
      "1     11605       1   10.0.0.1  10.0.0.8    126395  134737070  280  734000000   \n",
      "2     11425       1   10.0.0.2  10.0.0.8     90333   96294978  200  744000000   \n",
      "3     11425       1   10.0.0.2  10.0.0.8     90333   96294978  200  744000000   \n",
      "4     11425       1   10.0.0.2  10.0.0.8     90333   96294978  200  744000000   \n",
      "...     ...     ...        ...       ...       ...        ...  ...        ...   \n",
      "9995  11485       4   10.0.0.2  10.0.0.8    117087  124814742  258  834000000   \n",
      "9996  11485       4   10.0.0.2  10.0.0.8    117087  124814742  258  834000000   \n",
      "9997  11485       4  10.0.0.13  10.0.0.8     65894   68661548  210  860000000   \n",
      "9998  11485       4   10.0.0.2  10.0.0.8    117087  124814742  258  834000000   \n",
      "9999  11485       4   10.0.0.1  10.0.0.8     72124   76884184  159  747000000   \n",
      "\n",
      "           tot_dur  flows  ...  pktrate  Pairflow  Protocol  port_no  \\\n",
      "0     1.010000e+11      3  ...      451         0       UDP        3   \n",
      "1     2.810000e+11      2  ...      451         0       UDP        4   \n",
      "2     2.010000e+11      3  ...      451         0       UDP        1   \n",
      "3     2.010000e+11      3  ...      451         0       UDP        2   \n",
      "4     2.010000e+11      3  ...      451         0       UDP        3   \n",
      "...            ...    ...  ...      ...       ...       ...      ...   \n",
      "9995  2.590000e+11      6  ...      451         0       UDP        2   \n",
      "9996  2.590000e+11      6  ...      451         0       UDP        3   \n",
      "9997  2.110000e+11      6  ...      309         0       UDP        3   \n",
      "9998  2.590000e+11      6  ...      451         0       UDP        1   \n",
      "9999  1.600000e+11      6  ...      451         0       UDP        1   \n",
      "\n",
      "       tx_bytes   rx_bytes  tx_kbps  rx_kbps  tot_kbps  label  \n",
      "0     143928631       3917        0        0         0      0  \n",
      "1          3842       3520        0        0         0      0  \n",
      "2          3795       1242        0        0         0      0  \n",
      "3          3688       1492        0        0         0      0  \n",
      "4          3413       3665        0        0         0      0  \n",
      "...         ...        ...      ...      ...       ...    ...  \n",
      "9995       4139  125201146        0     3837      3837      0  \n",
      "9996  202402181       4127     7676        0      7676      0  \n",
      "9997       4295  238103395        0    10242     10242      1  \n",
      "9998       3795       1402        0        0         0      0  \n",
      "9999       4047  143926620        0        0         0      0  \n",
      "\n",
      "[10000 rows x 23 columns]\n",
      "dt             0\n",
      "switch         0\n",
      "src            0\n",
      "dst            0\n",
      "pktcount       0\n",
      "bytecount      0\n",
      "dur            0\n",
      "dur_nsec       0\n",
      "tot_dur        0\n",
      "flows          0\n",
      "packetins      0\n",
      "pktperflow     0\n",
      "byteperflow    0\n",
      "pktrate        0\n",
      "Pairflow       0\n",
      "Protocol       0\n",
      "port_no        0\n",
      "tx_bytes       0\n",
      "rx_bytes       0\n",
      "tx_kbps        0\n",
      "rx_kbps        0\n",
      "tot_kbps       0\n",
      "label          0\n",
      "dtype: int64\n"
     ]
    }
   ],
   "source": [
    "network_data = pd.read_csv('reduced_dataset_sdn.csv')\n",
    "print(network_data)\n",
    "null_info = network_data.isna().sum()\n",
    "print(null_info)\n",
    "\n",
    "ip_encoding = 1 # target encoding\n",
    "X_train, X_test, y_train, y_test = encode_data(network_data, ip_encoding)\n"
   ]
  },
  {
   "cell_type": "markdown",
   "metadata": {},
   "source": [
    "## uczenie modelu SVC"
   ]
  },
  {
   "cell_type": "code",
   "execution_count": 28,
   "metadata": {},
   "outputs": [
    {
     "name": "stdout",
     "output_type": "stream",
     "text": [
      "Classification Report:\n",
      "              precision    recall  f1-score   support\n",
      "\n",
      "           0       0.99      1.00      1.00      1688\n",
      "           1       1.00      0.99      0.99      1312\n",
      "\n",
      "    accuracy                           0.99      3000\n",
      "   macro avg       1.00      0.99      0.99      3000\n",
      "weighted avg       1.00      0.99      0.99      3000\n",
      "\n",
      "\n"
     ]
    }
   ],
   "source": [
    "ksvm = svm.SVC(kernel='rbf', gamma=0.13)\n",
    "ksvm.fit(X_train, y_train)\n",
    "y_pred = ksvm.predict(X_test)\n",
    "report = classification_report(y_test, y_pred)\n",
    "print(f'Classification Report:\\n{report}\\n')"
   ]
  },
  {
   "cell_type": "markdown",
   "metadata": {},
   "source": [
    "## uczenie modelu OneClassSVM"
   ]
  },
  {
   "cell_type": "code",
   "execution_count": 29,
   "metadata": {},
   "outputs": [
    {
     "name": "stdout",
     "output_type": "stream",
     "text": [
      "              precision    recall  f1-score   support\n",
      "\n",
      "           0       0.56      0.95      0.70      1688\n",
      "           1       0.33      0.03      0.06      1312\n",
      "\n",
      "    accuracy                           0.55      3000\n",
      "   macro avg       0.44      0.49      0.38      3000\n",
      "weighted avg       0.46      0.55      0.42      3000\n",
      "\n"
     ]
    }
   ],
   "source": [
    "clf = svm.OneClassSVM(kernel='rbf', gamma=0.04, nu=0.03)\n",
    "clf.fit(X_train)\n",
    "\n",
    "y_pred_test = clf.predict(X_test)\n",
    "y_pred_test = [0 if y == 1 else 1 for y in y_pred_test]\n",
    "report = classification_report(y_test, y_pred_test)\n",
    "print(report)"
   ]
  }
 ],
 "metadata": {
  "kernelspec": {
   "display_name": "Python 3",
   "language": "python",
   "name": "python3"
  },
  "language_info": {
   "codemirror_mode": {
    "name": "ipython",
    "version": 3
   },
   "file_extension": ".py",
   "mimetype": "text/x-python",
   "name": "python",
   "nbconvert_exporter": "python",
   "pygments_lexer": "ipython3",
   "version": "3.12.2"
  }
 },
 "nbformat": 4,
 "nbformat_minor": 2
}
