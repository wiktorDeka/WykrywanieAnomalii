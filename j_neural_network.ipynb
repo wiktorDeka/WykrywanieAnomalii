{
 "cells": [
  {
   "cell_type": "markdown",
   "metadata": {},
   "source": [
    "# Neural network - Perceptron"
   ]
  },
  {
   "cell_type": "markdown",
   "metadata": {},
   "source": [
    "## importy"
   ]
  },
  {
   "cell_type": "code",
   "execution_count": 19,
   "metadata": {},
   "outputs": [],
   "source": [
    "import pandas as pd\n",
    "from sklearn.preprocessing import StandardScaler\n",
    "from sklearn.linear_model import Perceptron\n",
    "from sklearn.metrics import classification_report\n",
    "from sklearn.metrics import confusion_matrix\n",
    "from data_encoder import encode_data\n",
    "import seaborn as sns\n",
    "import matplotlib.pyplot as plt"
   ]
  },
  {
   "cell_type": "markdown",
   "metadata": {},
   "source": [
    "## dane"
   ]
  },
  {
   "cell_type": "code",
   "execution_count": 20,
   "metadata": {},
   "outputs": [
    {
     "name": "stdout",
     "output_type": "stream",
     "text": [
      "           dt  switch        src       dst  pktcount  bytecount  dur  \\\n",
      "0       11425       1   10.0.0.1  10.0.0.8     45304   48294064  100   \n",
      "1       11605       1   10.0.0.1  10.0.0.8    126395  134737070  280   \n",
      "2       11425       1   10.0.0.2  10.0.0.8     90333   96294978  200   \n",
      "3       11425       1   10.0.0.2  10.0.0.8     90333   96294978  200   \n",
      "4       11425       1   10.0.0.2  10.0.0.8     90333   96294978  200   \n",
      "...       ...     ...        ...       ...       ...        ...  ...   \n",
      "104340   5262       3   10.0.0.5  10.0.0.7        79       7742   81   \n",
      "104341   5262       3   10.0.0.5  10.0.0.7        79       7742   81   \n",
      "104342   5262       3  10.0.0.11  10.0.0.5        31       3038   31   \n",
      "104343   5262       3  10.0.0.11  10.0.0.5        31       3038   31   \n",
      "104344   5262       3  10.0.0.11  10.0.0.5        31       3038   31   \n",
      "\n",
      "         dur_nsec       tot_dur  flows  ...  pktrate  Pairflow  Protocol  \\\n",
      "0       716000000  1.010000e+11      3  ...      451         0       UDP   \n",
      "1       734000000  2.810000e+11      2  ...      451         0       UDP   \n",
      "2       744000000  2.010000e+11      3  ...      451         0       UDP   \n",
      "3       744000000  2.010000e+11      3  ...      451         0       UDP   \n",
      "4       744000000  2.010000e+11      3  ...      451         0       UDP   \n",
      "...           ...           ...    ...  ...      ...       ...       ...   \n",
      "104340  842000000  8.184200e+10      5  ...        0         0      ICMP   \n",
      "104341  842000000  8.184200e+10      5  ...        0         0      ICMP   \n",
      "104342  805000000  3.180500e+10      5  ...        1         0      ICMP   \n",
      "104343  805000000  3.180500e+10      5  ...        1         0      ICMP   \n",
      "104344  805000000  3.180500e+10      5  ...        1         0      ICMP   \n",
      "\n",
      "        port_no   tx_bytes rx_bytes  tx_kbps  rx_kbps  tot_kbps  label  \n",
      "0             3  143928631     3917        0      0.0       0.0      0  \n",
      "1             4       3842     3520        0      0.0       0.0      0  \n",
      "2             1       3795     1242        0      0.0       0.0      0  \n",
      "3             2       3688     1492        0      0.0       0.0      0  \n",
      "4             3       3413     3665        0      0.0       0.0      0  \n",
      "...         ...        ...      ...      ...      ...       ...    ...  \n",
      "104340        1      15209    12720        1      1.0       2.0      0  \n",
      "104341        3      15099    14693        1      1.0       2.0      0  \n",
      "104342        2       3409     3731        0      0.0       0.0      0  \n",
      "104343        1      15209    12720        1      1.0       2.0      0  \n",
      "104344        3      15099    14693        1      1.0       2.0      0  \n",
      "\n",
      "[104345 rows x 23 columns]\n",
      "dt               0\n",
      "switch           0\n",
      "src              0\n",
      "dst              0\n",
      "pktcount         0\n",
      "bytecount        0\n",
      "dur              0\n",
      "dur_nsec         0\n",
      "tot_dur          0\n",
      "flows            0\n",
      "packetins        0\n",
      "pktperflow       0\n",
      "byteperflow      0\n",
      "pktrate          0\n",
      "Pairflow         0\n",
      "Protocol         0\n",
      "port_no          0\n",
      "tx_bytes         0\n",
      "rx_bytes         0\n",
      "tx_kbps          0\n",
      "rx_kbps        506\n",
      "tot_kbps       506\n",
      "label            0\n",
      "dtype: int64\n"
     ]
    }
   ],
   "source": [
    "network_data = pd.read_csv('dataset_sdn.csv')\n",
    "print(network_data)\n",
    "null_info = network_data.isna().sum()\n",
    "print(null_info)\n",
    "\n",
    "ip_encoding = 3 # one hot encoding\n",
    "X_train, X_test, y_train, y_test = encode_data(network_data, ip_encoding, drop=True)\n",
    "scaler = StandardScaler()\n",
    "X_train = scaler.fit_transform(X_train)\n",
    "X_test = scaler.transform(X_test)"
   ]
  },
  {
   "cell_type": "markdown",
   "metadata": {},
   "source": [
    "## uczenie modelu"
   ]
  },
  {
   "cell_type": "code",
   "execution_count": 21,
   "metadata": {},
   "outputs": [
    {
     "name": "stdout",
     "output_type": "stream",
     "text": [
      "              precision    recall  f1-score   support\n",
      "\n",
      "           0       0.73      0.85      0.78     19266\n",
      "           1       0.67      0.50      0.58     12038\n",
      "\n",
      "    accuracy                           0.71     31304\n",
      "   macro avg       0.70      0.68      0.68     31304\n",
      "weighted avg       0.71      0.71      0.70     31304\n",
      "\n"
     ]
    },
    {
     "data": {
      "image/png": "[encoded data removed]",
      "text/plain": [
       "<Figure size 640x480 with 1 Axes>"
      ]
     },
     "metadata": {},
     "output_type": "display_data"
    }
   ],
   "source": [
    "perceptron = Perceptron(max_iter=1200, tol=1e-3)\n",
    "perceptron.fit(X_train, y_train)\n",
    "y_pred = perceptron.predict(X_test)\n",
    "report = classification_report(y_test, y_pred)\n",
    "\n",
    "print(report)\n",
    "sns.heatmap(confusion_matrix(y_test, y_pred), fmt=\"d\", annot=True, cmap='Blues', cbar=False)\n",
    "plt.title('Macierz pomyłek')\n",
    "plt.show()"
   ]
  }
 ],
 "metadata": {
  "kernelspec": {
   "display_name": "Python 3",
   "language": "python",
   "name": "python3"
  },
  "language_info": {
   "codemirror_mode": {
    "name": "ipython",
    "version": 3
   },
   "file_extension": ".py",
   "mimetype": "text/x-python",
   "name": "python",
   "nbconvert_exporter": "python",
   "pygments_lexer": "ipython3",
   "version": "3.12.2"
  }
 },
 "nbformat": 4,
 "nbformat_minor": 2
}
