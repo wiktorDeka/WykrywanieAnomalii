{
  "cells": [
    {
      "cell_type": "markdown",
      "metadata": {
        "id": "8hCY8AXKytW7"
      },
      "source": [
        "# Sugestie\n",
        "* ip embedding\n",
        "* target encoding\n",
        "* bucketing\n",
        "* hash semantyczny\n",
        "* isolation forest / SVM\n",
        "* pca\n",
        "\n"
      ]
    },
    {
      "cell_type": "markdown",
      "metadata": {
        "id": "ZmH1Ia82vFjX"
      },
      "source": [
        "# Przygotowanie danych"
      ]
    },
    {
      "cell_type": "code",
      "execution_count": 39,
      "metadata": {
        "id": "I9zB0USDvFjY"
      },
      "outputs": [],
      "source": [
        "\n",
        "from sympy import Integer\n",
        "import jax\n",
        "import jax.numpy as jnp\n",
        "import numpy as np\n",
        "import pandas as pd\n",
        "import matplotlib.pyplot as plt\n",
        "import seaborn as sns\n",
        "import io\n",
        "import requests\n",
        "import hashlib"
      ]
    },
    {
      "cell_type": "markdown",
      "metadata": {
        "id": "01wwOBjMzIjk"
      },
      "source": [
        "## Import danych"
      ]
    },
    {
      "cell_type": "code",
      "execution_count": 40,
      "metadata": {
        "id": "OQkSQZ9UvFjZ"
      },
      "outputs": [],
      "source": [
        "# url = 'https://raw.githubusercontent.com/wiktorDeka/WykrywanieAnomalii/main/reduced_dataset_sdn.csv'\n",
        "url = 'https://raw.githubusercontent.com/wiktorDeka/WykrywanieAnomalii/main/dataset_sdn.csv'\n",
        "s = requests.get(url).content\n",
        "\n",
        "counters = pd.read_csv(io.StringIO(s.decode('utf-8')))\n",
        "counters.dt = pd.to_datetime(counters.dt, unit='s')\n",
        "counters.set_index('dt', inplace=True)"
      ]
    },
    {
      "cell_type": "markdown",
      "metadata": {
        "id": "8UtuThV7vFja"
      },
      "source": [
        "## Przygotowanie danych – brakujące dane\n",
        "\n",
        "Usunięcie całych obserwacji w których występuje brak danych. Często metodę określa się z angielskiego jako complete-case analysis (CCA), czyli analizie poddajemy tylko te obserwacje dla których mamy pełne dane dla wszystkich zmiennych. W naszym przypadku z uwagi na relatywnie niską liczebność, postanowiliśmy braki pominąć."
      ]
    },
    {
      "cell_type": "code",
      "execution_count": 41,
      "metadata": {
        "colab": {
          "base_uri": "https://localhost:8080/"
        },
        "id": "SriWXfdPzVZa",
        "outputId": "a1c4a6c2-c146-43bc-ff8a-3d7ed4937bf1"
      },
      "outputs": [
        {
          "data": {
            "text/plain": [
              "switch         0\n",
              "src            0\n",
              "dst            0\n",
              "pktcount       0\n",
              "bytecount      0\n",
              "dur            0\n",
              "dur_nsec       0\n",
              "tot_dur        0\n",
              "flows          0\n",
              "packetins      0\n",
              "pktperflow     0\n",
              "byteperflow    0\n",
              "pktrate        0\n",
              "Pairflow       0\n",
              "Protocol       0\n",
              "port_no        0\n",
              "tx_bytes       0\n",
              "rx_bytes       0\n",
              "tx_kbps        0\n",
              "rx_kbps        0\n",
              "tot_kbps       0\n",
              "label          0\n",
              "dtype: int64"
            ]
          },
          "execution_count": 41,
          "metadata": {},
          "output_type": "execute_result"
        }
      ],
      "source": [
        "counters.dropna(inplace=True)\n",
        "counters.isnull().sum()\n"
      ]
    },
    {
      "cell_type": "markdown",
      "metadata": {
        "id": "y1KVPZOwvFja"
      },
      "source": [
        "## Przygotowanie danych - kodowanie zmiennych kategorialnych\n",
        "\n",
        "Dla przypomnienia zmienna kategorialna to taka, która pozwala na przeprowadzenie klasyfikacji serii danych za pomocą wartości związanych z określoną jakością czy kategorią. Zmienna kategorialna pozwala sklasyfikować, pogrupować w oparciu o informację jakościową, czyli najczęściej w danych spotkamy zmienną kategorialną z elementami stanowiącymi łańcuch tekstowy. W naszym przypadku będziemy zaliczać do zmiennych kategorialnych : data/czas danych wpisów, nazwa protokołu jaki został uzyty, destination i source adresy.\n",
        "\n",
        "Na podstawie róznych benchamrków, mozemy się skupić na tych 4 enkoderach.\n",
        "\n",
        "\"We observed that four encoders: One-Hot, Binary (‘Bin’ on the plot), Sum, and Weight of Evidence are consistently among the best performing. For logistic regression, the difference of these four from the rest is statistically significant.\"\n"
      ]
    },
    {
      "cell_type": "markdown",
      "metadata": {
        "id": "_siYEybJvFja"
      },
      "source": [
        "## Przygotowanie danych - duration\n",
        "\n",
        "Łączymy duration_sec i duration_nsec, aby otrzymać pełny czas trwania - duration.\n"
      ]
    },
    {
      "cell_type": "code",
      "execution_count": 42,
      "metadata": {
        "colab": {
          "base_uri": "https://localhost:8080/"
        },
        "id": "fzo7w4kbvFja",
        "outputId": "835f8e9d-477f-4c1c-ecd8-6585fa5a0449"
      },
      "outputs": [
        {
          "name": "stdout",
          "output_type": "stream",
          "text": [
            "<class 'pandas.core.frame.DataFrame'>\n",
            "DatetimeIndex: 103839 entries, 1970-01-01 03:10:25 to 1970-01-01 01:27:42\n",
            "Data columns (total 21 columns):\n",
            " #   Column       Non-Null Count   Dtype  \n",
            "---  ------       --------------   -----  \n",
            " 0   switch       103839 non-null  int64  \n",
            " 1   src          103839 non-null  object \n",
            " 2   dst          103839 non-null  object \n",
            " 3   pktcount     103839 non-null  int64  \n",
            " 4   bytecount    103839 non-null  int64  \n",
            " 5   tot_dur      103839 non-null  float64\n",
            " 6   flows        103839 non-null  int64  \n",
            " 7   packetins    103839 non-null  int64  \n",
            " 8   pktperflow   103839 non-null  int64  \n",
            " 9   byteperflow  103839 non-null  int64  \n",
            " 10  pktrate      103839 non-null  int64  \n",
            " 11  Pairflow     103839 non-null  int64  \n",
            " 12  Protocol     103839 non-null  object \n",
            " 13  port_no      103839 non-null  int64  \n",
            " 14  tx_bytes     103839 non-null  int64  \n",
            " 15  rx_bytes     103839 non-null  int64  \n",
            " 16  tx_kbps      103839 non-null  int64  \n",
            " 17  rx_kbps      103839 non-null  float64\n",
            " 18  tot_kbps     103839 non-null  float64\n",
            " 19  label        103839 non-null  int64  \n",
            " 20  duration     103839 non-null  float64\n",
            "dtypes: float64(4), int64(14), object(3)\n",
            "memory usage: 17.4+ MB\n"
          ]
        }
      ],
      "source": [
        "# Create the new 'duration' column\n",
        "\n",
        "if 'dur' in counters and 'dur_nsec' in counters:\n",
        "  counters['duration'] = counters['dur'] + counters['dur_nsec'] / 1e9\n",
        "\n",
        "  # Drop the 'duration_sec' and 'duration_nsec' columns\n",
        "  counters = counters.drop(['dur', 'dur_nsec'], axis=1)\n",
        "\n",
        "counters.info()"
      ]
    },
    {
      "cell_type": "markdown",
      "metadata": {
        "id": "JsBAz0E3vFjb"
      },
      "source": [
        "## Normalizacja\n",
        "\n",
        "Normalizacja to proces przekształcania danych wejściowych w taki sposób, aby poprawić wydajność modelu uczącego się. Głównym celem normalizacji jest doprowadzenie danych do jednolitej skali lub rozkładu, co może ułatwić uczenie modelu poprzez zmniejszenie wpływu różnic w zakresach lub jednostkach między różnymi cechami danych.\n",
        "\n",
        "Istnieje kilka popularnych metod normalizacji danych, takich jak:\n",
        "\n",
        "Normalizacja min-max: Skaluje wartości cech do zakresu między 0 a 1, wykorzystując minimum i maksimum wartości danej cechy.\n",
        "Z-score normalization (StandardScaler): Przekształca wartości cech tak, aby miały średnią równą zero i odchylenie standardowe równe jeden.\n",
        "Normalizacja jednostkowa: Polega na dzieleniu każdej wartości cechy przez normę wektora cechy, co prowadzi do przeskalowania cech do jednostkowego wektora o długości 1."
      ]
    },
    {
      "cell_type": "code",
      "execution_count": 43,
      "metadata": {
        "colab": {
          "base_uri": "https://localhost:8080/",
          "height": 649
        },
        "id": "81RswgM7vFjb",
        "outputId": "3d5b46c2-465e-4415-8c6f-98691361bdbc"
      },
      "outputs": [
        {
          "data": {
            "text/html": [
              "<div>\n",
              "<style scoped>\n",
              "    .dataframe tbody tr th:only-of-type {\n",
              "        vertical-align: middle;\n",
              "    }\n",
              "\n",
              "    .dataframe tbody tr th {\n",
              "        vertical-align: top;\n",
              "    }\n",
              "\n",
              "    .dataframe thead th {\n",
              "        text-align: right;\n",
              "    }\n",
              "</style>\n",
              "<table border=\"1\" class=\"dataframe\">\n",
              "  <thead>\n",
              "    <tr style=\"text-align: right;\">\n",
              "      <th></th>\n",
              "      <th>switch</th>\n",
              "      <th>src</th>\n",
              "      <th>dst</th>\n",
              "      <th>pktcount</th>\n",
              "      <th>bytecount</th>\n",
              "      <th>tot_dur</th>\n",
              "      <th>flows</th>\n",
              "      <th>packetins</th>\n",
              "      <th>pktperflow</th>\n",
              "      <th>byteperflow</th>\n",
              "      <th>...</th>\n",
              "      <th>Pairflow</th>\n",
              "      <th>Protocol</th>\n",
              "      <th>port_no</th>\n",
              "      <th>tx_bytes</th>\n",
              "      <th>rx_bytes</th>\n",
              "      <th>tx_kbps</th>\n",
              "      <th>rx_kbps</th>\n",
              "      <th>tot_kbps</th>\n",
              "      <th>label</th>\n",
              "      <th>duration</th>\n",
              "    </tr>\n",
              "    <tr>\n",
              "      <th>dt</th>\n",
              "      <th></th>\n",
              "      <th></th>\n",
              "      <th></th>\n",
              "      <th></th>\n",
              "      <th></th>\n",
              "      <th></th>\n",
              "      <th></th>\n",
              "      <th></th>\n",
              "      <th></th>\n",
              "      <th></th>\n",
              "      <th></th>\n",
              "      <th></th>\n",
              "      <th></th>\n",
              "      <th></th>\n",
              "      <th></th>\n",
              "      <th></th>\n",
              "      <th></th>\n",
              "      <th></th>\n",
              "      <th></th>\n",
              "      <th></th>\n",
              "      <th></th>\n",
              "    </tr>\n",
              "  </thead>\n",
              "  <tbody>\n",
              "    <tr>\n",
              "      <th>1970-01-01 03:10:25</th>\n",
              "      <td>1</td>\n",
              "      <td>10.0.0.1</td>\n",
              "      <td>10.0.0.8</td>\n",
              "      <td>0.174242</td>\n",
              "      <td>0.328245</td>\n",
              "      <td>1.010000e+11</td>\n",
              "      <td>3</td>\n",
              "      <td>1943</td>\n",
              "      <td>13535</td>\n",
              "      <td>14428310</td>\n",
              "      <td>...</td>\n",
              "      <td>0</td>\n",
              "      <td>UDP</td>\n",
              "      <td>3</td>\n",
              "      <td>1.133295e-01</td>\n",
              "      <td>3.090061e-06</td>\n",
              "      <td>0</td>\n",
              "      <td>0.0</td>\n",
              "      <td>0.0</td>\n",
              "      <td>0</td>\n",
              "      <td>100.716</td>\n",
              "    </tr>\n",
              "    <tr>\n",
              "      <th>1970-01-01 03:13:25</th>\n",
              "      <td>1</td>\n",
              "      <td>10.0.0.1</td>\n",
              "      <td>10.0.0.8</td>\n",
              "      <td>0.486123</td>\n",
              "      <td>0.915781</td>\n",
              "      <td>2.810000e+11</td>\n",
              "      <td>2</td>\n",
              "      <td>1943</td>\n",
              "      <td>13531</td>\n",
              "      <td>14424046</td>\n",
              "      <td>...</td>\n",
              "      <td>0</td>\n",
              "      <td>UDP</td>\n",
              "      <td>4</td>\n",
              "      <td>1.035450e-06</td>\n",
              "      <td>2.689292e-06</td>\n",
              "      <td>0</td>\n",
              "      <td>0.0</td>\n",
              "      <td>0.0</td>\n",
              "      <td>0</td>\n",
              "      <td>280.734</td>\n",
              "    </tr>\n",
              "    <tr>\n",
              "      <th>1970-01-01 03:10:25</th>\n",
              "      <td>1</td>\n",
              "      <td>10.0.0.2</td>\n",
              "      <td>10.0.0.8</td>\n",
              "      <td>0.347427</td>\n",
              "      <td>0.654498</td>\n",
              "      <td>2.010000e+11</td>\n",
              "      <td>3</td>\n",
              "      <td>1943</td>\n",
              "      <td>13534</td>\n",
              "      <td>14427244</td>\n",
              "      <td>...</td>\n",
              "      <td>0</td>\n",
              "      <td>UDP</td>\n",
              "      <td>1</td>\n",
              "      <td>9.984414e-07</td>\n",
              "      <td>3.896647e-07</td>\n",
              "      <td>0</td>\n",
              "      <td>0.0</td>\n",
              "      <td>0.0</td>\n",
              "      <td>0</td>\n",
              "      <td>200.744</td>\n",
              "    </tr>\n",
              "    <tr>\n",
              "      <th>1970-01-01 03:10:25</th>\n",
              "      <td>1</td>\n",
              "      <td>10.0.0.2</td>\n",
              "      <td>10.0.0.8</td>\n",
              "      <td>0.347427</td>\n",
              "      <td>0.654498</td>\n",
              "      <td>2.010000e+11</td>\n",
              "      <td>3</td>\n",
              "      <td>1943</td>\n",
              "      <td>13534</td>\n",
              "      <td>14427244</td>\n",
              "      <td>...</td>\n",
              "      <td>0</td>\n",
              "      <td>UDP</td>\n",
              "      <td>2</td>\n",
              "      <td>9.141880e-07</td>\n",
              "      <td>6.420382e-07</td>\n",
              "      <td>0</td>\n",
              "      <td>0.0</td>\n",
              "      <td>0.0</td>\n",
              "      <td>0</td>\n",
              "      <td>200.744</td>\n",
              "    </tr>\n",
              "    <tr>\n",
              "      <th>1970-01-01 03:10:25</th>\n",
              "      <td>1</td>\n",
              "      <td>10.0.0.2</td>\n",
              "      <td>10.0.0.8</td>\n",
              "      <td>0.347427</td>\n",
              "      <td>0.654498</td>\n",
              "      <td>2.010000e+11</td>\n",
              "      <td>3</td>\n",
              "      <td>1943</td>\n",
              "      <td>13534</td>\n",
              "      <td>14427244</td>\n",
              "      <td>...</td>\n",
              "      <td>0</td>\n",
              "      <td>UDP</td>\n",
              "      <td>3</td>\n",
              "      <td>6.976491e-07</td>\n",
              "      <td>2.835669e-06</td>\n",
              "      <td>0</td>\n",
              "      <td>0.0</td>\n",
              "      <td>0.0</td>\n",
              "      <td>0</td>\n",
              "      <td>200.744</td>\n",
              "    </tr>\n",
              "    <tr>\n",
              "      <th>...</th>\n",
              "      <td>...</td>\n",
              "      <td>...</td>\n",
              "      <td>...</td>\n",
              "      <td>...</td>\n",
              "      <td>...</td>\n",
              "      <td>...</td>\n",
              "      <td>...</td>\n",
              "      <td>...</td>\n",
              "      <td>...</td>\n",
              "      <td>...</td>\n",
              "      <td>...</td>\n",
              "      <td>...</td>\n",
              "      <td>...</td>\n",
              "      <td>...</td>\n",
              "      <td>...</td>\n",
              "      <td>...</td>\n",
              "      <td>...</td>\n",
              "      <td>...</td>\n",
              "      <td>...</td>\n",
              "      <td>...</td>\n",
              "      <td>...</td>\n",
              "    </tr>\n",
              "    <tr>\n",
              "      <th>1970-01-01 01:27:42</th>\n",
              "      <td>3</td>\n",
              "      <td>10.0.0.5</td>\n",
              "      <td>10.0.0.7</td>\n",
              "      <td>0.000304</td>\n",
              "      <td>0.000053</td>\n",
              "      <td>8.184200e+10</td>\n",
              "      <td>5</td>\n",
              "      <td>10</td>\n",
              "      <td>29</td>\n",
              "      <td>2842</td>\n",
              "      <td>...</td>\n",
              "      <td>0</td>\n",
              "      <td>ICMP</td>\n",
              "      <td>1</td>\n",
              "      <td>9.985988e-06</td>\n",
              "      <td>1.197664e-05</td>\n",
              "      <td>1</td>\n",
              "      <td>1.0</td>\n",
              "      <td>2.0</td>\n",
              "      <td>0</td>\n",
              "      <td>81.842</td>\n",
              "    </tr>\n",
              "    <tr>\n",
              "      <th>1970-01-01 01:27:42</th>\n",
              "      <td>3</td>\n",
              "      <td>10.0.0.5</td>\n",
              "      <td>10.0.0.7</td>\n",
              "      <td>0.000304</td>\n",
              "      <td>0.000053</td>\n",
              "      <td>8.184200e+10</td>\n",
              "      <td>5</td>\n",
              "      <td>10</td>\n",
              "      <td>29</td>\n",
              "      <td>2842</td>\n",
              "      <td>...</td>\n",
              "      <td>0</td>\n",
              "      <td>ICMP</td>\n",
              "      <td>3</td>\n",
              "      <td>9.899373e-06</td>\n",
              "      <td>1.396837e-05</td>\n",
              "      <td>1</td>\n",
              "      <td>1.0</td>\n",
              "      <td>2.0</td>\n",
              "      <td>0</td>\n",
              "      <td>81.842</td>\n",
              "    </tr>\n",
              "    <tr>\n",
              "      <th>1970-01-01 01:27:42</th>\n",
              "      <td>3</td>\n",
              "      <td>10.0.0.11</td>\n",
              "      <td>10.0.0.5</td>\n",
              "      <td>0.000119</td>\n",
              "      <td>0.000021</td>\n",
              "      <td>3.180500e+10</td>\n",
              "      <td>5</td>\n",
              "      <td>10</td>\n",
              "      <td>30</td>\n",
              "      <td>2940</td>\n",
              "      <td>...</td>\n",
              "      <td>0</td>\n",
              "      <td>ICMP</td>\n",
              "      <td>2</td>\n",
              "      <td>6.944994e-07</td>\n",
              "      <td>2.902295e-06</td>\n",
              "      <td>0</td>\n",
              "      <td>0.0</td>\n",
              "      <td>0.0</td>\n",
              "      <td>0</td>\n",
              "      <td>31.805</td>\n",
              "    </tr>\n",
              "    <tr>\n",
              "      <th>1970-01-01 01:27:42</th>\n",
              "      <td>3</td>\n",
              "      <td>10.0.0.11</td>\n",
              "      <td>10.0.0.5</td>\n",
              "      <td>0.000119</td>\n",
              "      <td>0.000021</td>\n",
              "      <td>3.180500e+10</td>\n",
              "      <td>5</td>\n",
              "      <td>10</td>\n",
              "      <td>30</td>\n",
              "      <td>2940</td>\n",
              "      <td>...</td>\n",
              "      <td>0</td>\n",
              "      <td>ICMP</td>\n",
              "      <td>1</td>\n",
              "      <td>9.985988e-06</td>\n",
              "      <td>1.197664e-05</td>\n",
              "      <td>1</td>\n",
              "      <td>1.0</td>\n",
              "      <td>2.0</td>\n",
              "      <td>0</td>\n",
              "      <td>31.805</td>\n",
              "    </tr>\n",
              "    <tr>\n",
              "      <th>1970-01-01 01:27:42</th>\n",
              "      <td>3</td>\n",
              "      <td>10.0.0.11</td>\n",
              "      <td>10.0.0.5</td>\n",
              "      <td>0.000119</td>\n",
              "      <td>0.000021</td>\n",
              "      <td>3.180500e+10</td>\n",
              "      <td>5</td>\n",
              "      <td>10</td>\n",
              "      <td>30</td>\n",
              "      <td>2940</td>\n",
              "      <td>...</td>\n",
              "      <td>0</td>\n",
              "      <td>ICMP</td>\n",
              "      <td>3</td>\n",
              "      <td>9.899373e-06</td>\n",
              "      <td>1.396837e-05</td>\n",
              "      <td>1</td>\n",
              "      <td>1.0</td>\n",
              "      <td>2.0</td>\n",
              "      <td>0</td>\n",
              "      <td>31.805</td>\n",
              "    </tr>\n",
              "  </tbody>\n",
              "</table>\n",
              "<p>103839 rows × 21 columns</p>\n",
              "</div>"
            ],
            "text/plain": [
              "                     switch        src       dst  pktcount  bytecount  \\\n",
              "dt                                                                      \n",
              "1970-01-01 03:10:25       1   10.0.0.1  10.0.0.8  0.174242   0.328245   \n",
              "1970-01-01 03:13:25       1   10.0.0.1  10.0.0.8  0.486123   0.915781   \n",
              "1970-01-01 03:10:25       1   10.0.0.2  10.0.0.8  0.347427   0.654498   \n",
              "1970-01-01 03:10:25       1   10.0.0.2  10.0.0.8  0.347427   0.654498   \n",
              "1970-01-01 03:10:25       1   10.0.0.2  10.0.0.8  0.347427   0.654498   \n",
              "...                     ...        ...       ...       ...        ...   \n",
              "1970-01-01 01:27:42       3   10.0.0.5  10.0.0.7  0.000304   0.000053   \n",
              "1970-01-01 01:27:42       3   10.0.0.5  10.0.0.7  0.000304   0.000053   \n",
              "1970-01-01 01:27:42       3  10.0.0.11  10.0.0.5  0.000119   0.000021   \n",
              "1970-01-01 01:27:42       3  10.0.0.11  10.0.0.5  0.000119   0.000021   \n",
              "1970-01-01 01:27:42       3  10.0.0.11  10.0.0.5  0.000119   0.000021   \n",
              "\n",
              "                          tot_dur  flows  packetins  pktperflow  byteperflow  \\\n",
              "dt                                                                             \n",
              "1970-01-01 03:10:25  1.010000e+11      3       1943       13535     14428310   \n",
              "1970-01-01 03:13:25  2.810000e+11      2       1943       13531     14424046   \n",
              "1970-01-01 03:10:25  2.010000e+11      3       1943       13534     14427244   \n",
              "1970-01-01 03:10:25  2.010000e+11      3       1943       13534     14427244   \n",
              "1970-01-01 03:10:25  2.010000e+11      3       1943       13534     14427244   \n",
              "...                           ...    ...        ...         ...          ...   \n",
              "1970-01-01 01:27:42  8.184200e+10      5         10          29         2842   \n",
              "1970-01-01 01:27:42  8.184200e+10      5         10          29         2842   \n",
              "1970-01-01 01:27:42  3.180500e+10      5         10          30         2940   \n",
              "1970-01-01 01:27:42  3.180500e+10      5         10          30         2940   \n",
              "1970-01-01 01:27:42  3.180500e+10      5         10          30         2940   \n",
              "\n",
              "                     ...  Pairflow  Protocol port_no      tx_bytes  \\\n",
              "dt                   ...                                             \n",
              "1970-01-01 03:10:25  ...         0       UDP       3  1.133295e-01   \n",
              "1970-01-01 03:13:25  ...         0       UDP       4  1.035450e-06   \n",
              "1970-01-01 03:10:25  ...         0       UDP       1  9.984414e-07   \n",
              "1970-01-01 03:10:25  ...         0       UDP       2  9.141880e-07   \n",
              "1970-01-01 03:10:25  ...         0       UDP       3  6.976491e-07   \n",
              "...                  ...       ...       ...     ...           ...   \n",
              "1970-01-01 01:27:42  ...         0      ICMP       1  9.985988e-06   \n",
              "1970-01-01 01:27:42  ...         0      ICMP       3  9.899373e-06   \n",
              "1970-01-01 01:27:42  ...         0      ICMP       2  6.944994e-07   \n",
              "1970-01-01 01:27:42  ...         0      ICMP       1  9.985988e-06   \n",
              "1970-01-01 01:27:42  ...         0      ICMP       3  9.899373e-06   \n",
              "\n",
              "                         rx_bytes  tx_kbps  rx_kbps  tot_kbps  label  duration  \n",
              "dt                                                                              \n",
              "1970-01-01 03:10:25  3.090061e-06        0      0.0       0.0      0   100.716  \n",
              "1970-01-01 03:13:25  2.689292e-06        0      0.0       0.0      0   280.734  \n",
              "1970-01-01 03:10:25  3.896647e-07        0      0.0       0.0      0   200.744  \n",
              "1970-01-01 03:10:25  6.420382e-07        0      0.0       0.0      0   200.744  \n",
              "1970-01-01 03:10:25  2.835669e-06        0      0.0       0.0      0   200.744  \n",
              "...                           ...      ...      ...       ...    ...       ...  \n",
              "1970-01-01 01:27:42  1.197664e-05        1      1.0       2.0      0    81.842  \n",
              "1970-01-01 01:27:42  1.396837e-05        1      1.0       2.0      0    81.842  \n",
              "1970-01-01 01:27:42  2.902295e-06        0      0.0       0.0      0    31.805  \n",
              "1970-01-01 01:27:42  1.197664e-05        1      1.0       2.0      0    31.805  \n",
              "1970-01-01 01:27:42  1.396837e-05        1      1.0       2.0      0    31.805  \n",
              "\n",
              "[103839 rows x 21 columns]"
            ]
          },
          "execution_count": 43,
          "metadata": {},
          "output_type": "execute_result"
        }
      ],
      "source": [
        "from sklearn.preprocessing import MinMaxScaler\n",
        "\n",
        "# Assuming 'counters' is your DataFrame\n",
        "columns_to_normalize = ['pktcount', 'bytecount', 'tx_bytes', 'rx_bytes']\n",
        "\n",
        "# Initialize the MinMaxScaler\n",
        "scaler = MinMaxScaler()\n",
        "\n",
        "# Fit the scaler to your data and transform it\n",
        "counters[columns_to_normalize] = scaler.fit_transform(counters[columns_to_normalize])\n",
        "counters"
      ]
    },
    {
      "cell_type": "markdown",
      "metadata": {
        "id": "-h2YUUAJ7LjY"
      },
      "source": [
        "## Target encoding\n"
      ]
    },
    {
      "cell_type": "code",
      "execution_count": 44,
      "metadata": {
        "colab": {
          "base_uri": "https://localhost:8080/",
          "height": 211
        },
        "id": "LM8wTJ7t7O9t",
        "outputId": "7c71a675-b5e3-4698-90f5-d786610d012d"
      },
      "outputs": [],
      "source": [
        "from sklearn import preprocessing\n",
        "\n",
        "encoder = preprocessing.TargetEncoder()\n",
        "src_encoded = encoder.fit_transform(counters[['src']], counters['label'])\n",
        "counters['src'] = src_encoded\n",
        "dst_encoded = encoder.fit_transform(counters[['dst']], counters['label'])\n",
        "counters['dst'] = dst_encoded"
      ]
    },
    {
      "cell_type": "markdown",
      "metadata": {
        "id": "UzAOwQN0KI6o"
      },
      "source": [
        "## Hash encoding\n",
        "\n",
        "Hash encoding to przydatne kodowanie w przypadku dużych zbiorów danych, ponieważ wymaga mniej pamięci niż kodowanie jednokrotne i jest szybsze niż inne techniki kodowania. Kodowanie skrótu odwzorowuje każdą kategorię na unikalną wartość całkowitą w predefiniowanym zakresie przy użyciu funkcji skrótu . Mogą jednak wystąpić kolizje prowadzące do zmniejszenia wydajności modelu. My w naszym przypadku, będziemy hashować adresy ip używając hasha SHA256."
      ]
    },
    {
      "cell_type": "code",
      "execution_count": 45,
      "metadata": {
        "colab": {
          "base_uri": "https://localhost:8080/",
          "height": 649
        },
        "id": "4nREmCooKiv-",
        "outputId": "934a9706-16ec-4a21-eed4-a7a194cac282"
      },
      "outputs": [],
      "source": [
        "# src_encoded = counters['src'].apply(lambda x: int(hashlib.sha256(str(x).encode('utf-8')).hexdigest(), 16))\n",
        "# counters['src'] = src_encoded\n",
        "\n",
        "# dst_encoded = counters['dst'].apply(lambda x: int(hashlib.sha256(str(x).encode('utf-8')).hexdigest(), 16))\n",
        "# counters['dst'] = dst_encoded\n",
        "\n",
        "# counters\n",
        "\n"
      ]
    },
    {
      "cell_type": "markdown",
      "metadata": {
        "id": "WgswVZTtvFja"
      },
      "source": [
        "## Kodowanie One-Hot Encoding/DummyVariable Encoding\n",
        "\n",
        "Dla zmiennych kategorialnych bez uporządkowania kodowanie numeryczne, a więc określające relację między kategoriami może prowadzić do niewłaściwego działania uczonego modelu. Wymuszenie uporządkowania, tak jak zrobiliśmy to poprzednio też nie jest dobrym rozwiązaniem. Dla takich przypadków stosuje się kodowanie One-Hot Encoding, które w języku polskim określa się jako kodowanie „1 z n”. Poniewaz dane wypisane powyzej mają mieć tylko postać rozróznienia kategorii / grup osoób, skorzystamy z tego kodowanie. W naszym wypadku występuje jednak problem ilości róznych kategorii w odniesieniu do adresów IP"
      ]
    },
    {
      "cell_type": "code",
      "execution_count": 46,
      "metadata": {
        "colab": {
          "base_uri": "https://localhost:8080/"
        },
        "id": "GL0oyEAmvFjb",
        "outputId": "8529c364-5a96-456c-8e8c-25ba34dee280"
      },
      "outputs": [
        {
          "name": "stdout",
          "output_type": "stream",
          "text": [
            "<class 'pandas.core.frame.DataFrame'>\n",
            "DatetimeIndex: 103839 entries, 1970-01-01 03:10:25 to 1970-01-01 01:27:42\n",
            "Data columns (total 23 columns):\n",
            " #   Column         Non-Null Count   Dtype  \n",
            "---  ------         --------------   -----  \n",
            " 0   switch         103839 non-null  int64  \n",
            " 1   src            103839 non-null  float64\n",
            " 2   dst            103839 non-null  float64\n",
            " 3   pktcount       103839 non-null  float64\n",
            " 4   bytecount      103839 non-null  float64\n",
            " 5   tot_dur        103839 non-null  float64\n",
            " 6   flows          103839 non-null  int64  \n",
            " 7   packetins      103839 non-null  int64  \n",
            " 8   pktperflow     103839 non-null  int64  \n",
            " 9   byteperflow    103839 non-null  int64  \n",
            " 10  pktrate        103839 non-null  int64  \n",
            " 11  Pairflow       103839 non-null  int64  \n",
            " 12  port_no        103839 non-null  int64  \n",
            " 13  tx_bytes       103839 non-null  float64\n",
            " 14  rx_bytes       103839 non-null  float64\n",
            " 15  tx_kbps        103839 non-null  int64  \n",
            " 16  rx_kbps        103839 non-null  float64\n",
            " 17  tot_kbps       103839 non-null  float64\n",
            " 18  label          103839 non-null  int64  \n",
            " 19  duration       103839 non-null  float64\n",
            " 20  Protocol_ICMP  103839 non-null  int64  \n",
            " 21  Protocol_TCP   103839 non-null  int64  \n",
            " 22  Protocol_UDP   103839 non-null  int64  \n",
            "dtypes: float64(10), int64(13)\n",
            "memory usage: 19.0 MB\n"
          ]
        }
      ],
      "source": [
        "if 'Protocol' in counters:\n",
        "  usecols = ['Protocol']\n",
        "  df = counters[usecols]\n",
        "  # df = df.fillna(value='missing')\n",
        "  encoded_columns = pd.get_dummies(df, drop_first=False, dtype=int)\n",
        "  counters = pd.concat([counters, encoded_columns], axis=1)\n",
        "  counters.drop(columns=usecols, inplace=True)\n",
        "\n",
        "counters.info()\n"
      ]
    },
    {
      "cell_type": "markdown",
      "metadata": {},
      "source": [
        "# Uczenie maszynowe\n"
      ]
    },
    {
      "cell_type": "code",
      "execution_count": 47,
      "metadata": {},
      "outputs": [
        {
          "name": "stdout",
          "output_type": "stream",
          "text": [
            "label\n",
            "0    63335\n",
            "1    40504\n",
            "Name: count, dtype: int64\n"
          ]
        },
        {
          "data": {
            "image/png": "[encoded data removed]",
            "text/plain": [
              "<Figure size 640x480 with 1 Axes>"
            ]
          },
          "metadata": {},
          "output_type": "display_data"
        }
      ],
      "source": [
        "sns.countplot(x=counters['label'], palette=['#432371',\"#FAAE7B\"], hue=counters['label'])\n",
        "print(counters['label'].value_counts())"
      ]
    },
    {
      "cell_type": "markdown",
      "metadata": {},
      "source": [
        "## KNN"
      ]
    },
    {
      "cell_type": "code",
      "execution_count": 62,
      "metadata": {},
      "outputs": [
        {
          "name": "stderr",
          "output_type": "stream",
          "text": [
            "[I 2024-05-29 06:36:22,082] A new study created in memory with name: no-name-a7c188f0-e0da-4e3d-b8d1-a792fa78d586\n",
            "[I 2024-05-29 06:36:24,503] Trial 0 finished with value: 0.973324345146379 and parameters: {'KNN_n_neighbors': 2}. Best is trial 0 with value: 0.973324345146379.\n"
          ]
        },
        {
          "name": "stdout",
          "output_type": "stream",
          "text": [
            "FrozenTrial(number=0, state=TrialState.COMPLETE, values=[0.973324345146379], datetime_start=datetime.datetime(2024, 5, 29, 6, 36, 22, 83347), datetime_complete=datetime.datetime(2024, 5, 29, 6, 36, 24, 503361), params={'KNN_n_neighbors': 2}, user_attrs={}, system_attrs={}, intermediate_values={}, distributions={'KNN_n_neighbors': IntDistribution(high=16, log=False, low=2, step=1)}, trial_id=0, value=None)\n"
          ]
        }
      ],
      "source": [
        "from sklearn.model_selection import train_test_split\n",
        "from sklearn.neighbors import KNeighborsClassifier\n",
        "import optuna\n",
        "\n",
        "y = counters['label']\n",
        "X = counters.drop('label', axis=1)\n",
        "\n",
        "X_train, X_test, y_train, y_test = train_test_split(X, y, test_size=0.3, random_state=42)\n",
        "\n",
        "def objective(trial):\n",
        "    n_neighbors = trial.suggest_int('KNN_n_neighbors', 2, 16, log=False)\n",
        "    classifier_obj = KNeighborsClassifier(n_neighbors=n_neighbors)\n",
        "    classifier_obj.fit(X_train, y_train)\n",
        "    accuracy = classifier_obj.score(X_test, y_test)\n",
        "    return accuracy\n",
        "\n",
        "knn_opt = optuna.create_study(direction='maximize')\n",
        "knn_opt.optimize(objective, n_trials=1)\n",
        "\n",
        "\n",
        "clf = KNeighborsClassifier(n_neighbors=knn_opt.best_trial.params['KNN_n_neighbors'])\n",
        "clf.fit(X_train, y_train)\n",
        "\n",
        "https://github.com/SulemanNavalur/Network-Intrusion-Detection/blob/main/CS.ipynb\n",
        "\n"
      ]
    },
    {
      "cell_type": "markdown",
      "metadata": {},
      "source": [
        "## XD"
      ]
    },
    {
      "cell_type": "code",
      "execution_count": null,
      "metadata": {},
      "outputs": [],
      "source": [
        "from sklearn.linear_model import LogisticRegression\n",
        "\n",
        "y = counters['label']\n",
        "X = counters.drop('label', axis=1)\n",
        "\n",
        "X_train, X_test, y_train, y_test = train_test_split(X, y, test_size=0.3, random_state=42)\n",
        "\n",
        "clf = LogisticRegression(max_iter=1200000)\n",
        "clf.fit(X_train, y_train)"
      ]
    }
  ],
  "metadata": {
    "colab": {
      "provenance": []
    },
    "kernelspec": {
      "display_name": "Python 3.12.0 64-bit",
      "language": "python",
      "name": "python3"
    },
    "language_info": {
      "codemirror_mode": {
        "name": "ipython",
        "version": 3
      },
      "file_extension": ".py",
      "mimetype": "text/x-python",
      "name": "python",
      "nbconvert_exporter": "python",
      "pygments_lexer": "ipython3",
      "version": "3.10.12"
    },
    "vscode": {
      "interpreter": {
        "hash": "aee8b7b246df8f9039afb4144a1f6fd8d2ca17a180786b69acc140d282b71a49"
      }
    }
  },
  "nbformat": 4,
  "nbformat_minor": 0
}
