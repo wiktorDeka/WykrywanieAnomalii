{
 "cells": [
  {
   "cell_type": "markdown",
   "metadata": {},
   "source": [
    "# KNN"
   ]
  },
  {
   "cell_type": "markdown",
   "metadata": {},
   "source": [
    "## importy"
   ]
  },
  {
   "cell_type": "code",
   "execution_count": 43,
   "metadata": {},
   "outputs": [],
   "source": [
    "from data_encoder import encode_data\n",
    "import pandas as pd\n",
    "from sklearn import neighbors\n",
    "from sklearn.metrics import classification_report, confusion_matrix\n",
    "import matplotlib.pyplot as plt\n",
    "import seaborn as sns\n",
    "import numpy as np\n",
    "from sklearn.model_selection import cross_val_predict"
   ]
  },
  {
   "cell_type": "markdown",
   "metadata": {},
   "source": [
    "## dane"
   ]
  },
  {
   "cell_type": "code",
   "execution_count": 44,
   "metadata": {},
   "outputs": [
    {
     "name": "stdout",
     "output_type": "stream",
     "text": [
      "           dt  switch        src       dst  pktcount  bytecount  dur  \\\n",
      "0       11425       1   10.0.0.1  10.0.0.8     45304   48294064  100   \n",
      "1       11605       1   10.0.0.1  10.0.0.8    126395  134737070  280   \n",
      "2       11425       1   10.0.0.2  10.0.0.8     90333   96294978  200   \n",
      "3       11425       1   10.0.0.2  10.0.0.8     90333   96294978  200   \n",
      "4       11425       1   10.0.0.2  10.0.0.8     90333   96294978  200   \n",
      "...       ...     ...        ...       ...       ...        ...  ...   \n",
      "104340   5262       3   10.0.0.5  10.0.0.7        79       7742   81   \n",
      "104341   5262       3   10.0.0.5  10.0.0.7        79       7742   81   \n",
      "104342   5262       3  10.0.0.11  10.0.0.5        31       3038   31   \n",
      "104343   5262       3  10.0.0.11  10.0.0.5        31       3038   31   \n",
      "104344   5262       3  10.0.0.11  10.0.0.5        31       3038   31   \n",
      "\n",
      "         dur_nsec       tot_dur  flows  ...  pktrate  Pairflow  Protocol  \\\n",
      "0       716000000  1.010000e+11      3  ...      451         0       UDP   \n",
      "1       734000000  2.810000e+11      2  ...      451         0       UDP   \n",
      "2       744000000  2.010000e+11      3  ...      451         0       UDP   \n",
      "3       744000000  2.010000e+11      3  ...      451         0       UDP   \n",
      "4       744000000  2.010000e+11      3  ...      451         0       UDP   \n",
      "...           ...           ...    ...  ...      ...       ...       ...   \n",
      "104340  842000000  8.184200e+10      5  ...        0         0      ICMP   \n",
      "104341  842000000  8.184200e+10      5  ...        0         0      ICMP   \n",
      "104342  805000000  3.180500e+10      5  ...        1         0      ICMP   \n",
      "104343  805000000  3.180500e+10      5  ...        1         0      ICMP   \n",
      "104344  805000000  3.180500e+10      5  ...        1         0      ICMP   \n",
      "\n",
      "        port_no   tx_bytes rx_bytes  tx_kbps  rx_kbps  tot_kbps  label  \n",
      "0             3  143928631     3917        0      0.0       0.0      0  \n",
      "1             4       3842     3520        0      0.0       0.0      0  \n",
      "2             1       3795     1242        0      0.0       0.0      0  \n",
      "3             2       3688     1492        0      0.0       0.0      0  \n",
      "4             3       3413     3665        0      0.0       0.0      0  \n",
      "...         ...        ...      ...      ...      ...       ...    ...  \n",
      "104340        1      15209    12720        1      1.0       2.0      0  \n",
      "104341        3      15099    14693        1      1.0       2.0      0  \n",
      "104342        2       3409     3731        0      0.0       0.0      0  \n",
      "104343        1      15209    12720        1      1.0       2.0      0  \n",
      "104344        3      15099    14693        1      1.0       2.0      0  \n",
      "\n",
      "[104345 rows x 23 columns]\n",
      "dt               0\n",
      "switch           0\n",
      "src              0\n",
      "dst              0\n",
      "pktcount         0\n",
      "bytecount        0\n",
      "dur              0\n",
      "dur_nsec         0\n",
      "tot_dur          0\n",
      "flows            0\n",
      "packetins        0\n",
      "pktperflow       0\n",
      "byteperflow      0\n",
      "pktrate          0\n",
      "Pairflow         0\n",
      "Protocol         0\n",
      "port_no          0\n",
      "tx_bytes         0\n",
      "rx_bytes         0\n",
      "tx_kbps          0\n",
      "rx_kbps        506\n",
      "tot_kbps       506\n",
      "label            0\n",
      "dtype: int64\n"
     ]
    }
   ],
   "source": [
    "network_data = pd.read_csv('dataset_sdn.csv')\n",
    "print(network_data)\n",
    "null_info = network_data.isna().sum()\n",
    "print(null_info)\n",
    "\n",
    "ip_encoding = 3 #one hot encoding\n",
    "X_train, X_test, y_train, y_test = encode_data(network_data, ip_encoding, drop=True)\n",
    "\n",
    "# X_train['label'] = y_train\n",
    "# sns.pairplot(X_train, hue='label', vars=['pktcount', 'bytecount', 'tot_dur', 'pktrate'])\n",
    "# plt.show()\n",
    "# X_train = X_train.drop(columns=['label'])  \n",
    "\n",
    "X = np.concatenate((X_train, X_test), axis=0)\n",
    "Y = np.concatenate((y_train, y_test), axis=0)\n"
   ]
  },
  {
   "cell_type": "markdown",
   "metadata": {},
   "source": [
    "## uczenie modelu"
   ]
  },
  {
   "cell_type": "code",
   "execution_count": 45,
   "metadata": {},
   "outputs": [
    {
     "name": "stdout",
     "output_type": "stream",
     "text": [
      "              precision    recall  f1-score   support\n",
      "\n",
      "           0       1.00      1.00      1.00     63561\n",
      "           1       1.00      1.00      1.00     40784\n",
      "\n",
      "    accuracy                           1.00    104345\n",
      "   macro avg       1.00      1.00      1.00    104345\n",
      "weighted avg       1.00      1.00      1.00    104345\n",
      "\n",
      "[[63545    16]\n",
      " [  104 40680]]\n"
     ]
    }
   ],
   "source": [
    "clf = neighbors.KNeighborsClassifier(n_neighbors=2)\n",
    "y_pred_cv = cross_val_predict(clf, X, Y, cv=5)\n",
    "report = classification_report(Y, y_pred_cv)\n",
    "print(report)\n",
    "\n",
    "sns.heatmap(confusion_matrix(y_test, y_pred_cv), fmt=\"d\", annot=True, cmap='Blues', cbar=False)\n",
    "plt.title('Macierz pomyłek')\n",
    "plt.show()\n",
    "\n",
    "\n"
   ]
  }
 ],
 "metadata": {
  "kernelspec": {
   "display_name": "Python 3",
   "language": "python",
   "name": "python3"
  },
  "language_info": {
   "codemirror_mode": {
    "name": "ipython",
    "version": 3
   },
   "file_extension": ".py",
   "mimetype": "text/x-python",
   "name": "python",
   "nbconvert_exporter": "python",
   "pygments_lexer": "ipython3",
   "version": "3.12.2"
  }
 },
 "nbformat": 4,
 "nbformat_minor": 2
}
